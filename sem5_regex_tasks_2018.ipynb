{
 "cells": [
  {
   "cell_type": "markdown",
   "metadata": {},
   "source": [
    "# Задания по семинару 5\n",
    "\n",
    "# Регулярные выражения"
   ]
  },
  {
   "cell_type": "code",
   "execution_count": 1,
   "metadata": {},
   "outputs": [],
   "source": [
    "import re"
   ]
  },
  {
   "cell_type": "markdown",
   "metadata": {},
   "source": [
    "1) Дана строка"
   ]
  },
  {
   "cell_type": "raw",
   "metadata": {},
   "source": [
    "aaa--bbb==ccc__ddd"
   ]
  },
  {
   "cell_type": "code",
   "execution_count": 2,
   "metadata": {},
   "outputs": [
    {
     "data": {
      "text/plain": [
       "['aaa', 'bbb', 'ccc', 'ddd']"
      ]
     },
     "execution_count": 2,
     "metadata": {},
     "output_type": "execute_result"
    }
   ],
   "source": [
    "p1 = re.compile(r'[abcd]{3}')\n",
    "s1 = \"aaa--bbb==ccc__ddd\"\n",
    "p1.findall(s1)"
   ]
  },
  {
   "cell_type": "markdown",
   "metadata": {},
   "source": [
    "Написать регулярное выражение для разбивки этой строки на список `['aaa','bbb','ccc','ddd']`."
   ]
  },
  {
   "cell_type": "markdown",
   "metadata": {},
   "source": [
    "2) Получить первое слово из произвольной строки.\n",
    "\n",
    "Например, для `'Yesterday, All my troubles seemed so far away'` должно возвращаться `'Yesterday'`."
   ]
  },
  {
   "cell_type": "code",
   "execution_count": 3,
   "metadata": {},
   "outputs": [
    {
     "data": {
      "text/plain": [
       "['Yesterday']"
      ]
     },
     "execution_count": 3,
     "metadata": {},
     "output_type": "execute_result"
    }
   ],
   "source": [
    "p2 = re.compile(r'^[a-zA-Z]{1,}')\n",
    "s2 = \"Yesterday, All my troubles seemed so far away\"\n",
    "p2.findall(s2)"
   ]
  },
  {
   "cell_type": "markdown",
   "metadata": {},
   "source": [
    "3) Получить последнее слово из произвольной строки."
   ]
  },
  {
   "cell_type": "code",
   "execution_count": 5,
   "metadata": {},
   "outputs": [
    {
     "data": {
      "text/plain": [
       "['away']"
      ]
     },
     "execution_count": 5,
     "metadata": {},
     "output_type": "execute_result"
    }
   ],
   "source": [
    "p3 = re.compile(r'[a-zA-Z]{1,}$')\n",
    "s2 = \"Yesterday, All my troubles seemed so far away\"\n",
    "p3.findall(s2)"
   ]
  },
  {
   "cell_type": "markdown",
   "metadata": {},
   "source": [
    "4) В следующем отрывке найти все слова, которые начинаются на гласную букву:"
   ]
  },
  {
   "cell_type": "code",
   "execution_count": 6,
   "metadata": {
    "collapsed": true
   },
   "outputs": [],
   "source": [
    "text = '''My uncle -- high ideals inspire him;\n",
    "but when past joking he fell sick,\n",
    "he really forced one to admire him --\n",
    "and never played a shrewder trick.\n",
    "Let others learn from his example!\n",
    "But God, how deadly dull to sample\n",
    "sickroom attendance night and day\n",
    "and never stir a foot away!'''"
   ]
  },
  {
   "cell_type": "code",
   "execution_count": 13,
   "metadata": {},
   "outputs": [
    {
     "data": {
      "text/plain": [
       "[' uncle',\n",
       " ' ideals',\n",
       " ' inspire',\n",
       " ' one',\n",
       " ' admire',\n",
       " '\\nand',\n",
       " ' a',\n",
       " ' others',\n",
       " ' example',\n",
       " ' attendance',\n",
       " ' and',\n",
       " '\\nand',\n",
       " ' a',\n",
       " ' away']"
      ]
     },
     "execution_count": 13,
     "metadata": {},
     "output_type": "execute_result"
    }
   ],
   "source": [
    "p4 = re.compile(r'\\s[aeiou][a-zA-Z]{0,}', re.I)\n",
    "text = '''My uncle -- high ideals inspire him;\n",
    "but when past joking he fell sick,\n",
    "he really forced one to admire him --\n",
    "and never played a shrewder trick.\n",
    "Let others learn from his example!\n",
    "But God, how deadly dull to sample\n",
    "sickroom attendance night and day\n",
    "and never stir a foot away!'''\n",
    "p4.findall(text)"
   ]
  },
  {
   "cell_type": "markdown",
   "metadata": {},
   "source": [
    "5) В отрывке из задания 4) найти первое слово каждой строки."
   ]
  },
  {
   "cell_type": "code",
   "execution_count": 23,
   "metadata": {},
   "outputs": [
    {
     "data": {
      "text/plain": [
       "['\\nbut', '\\nhe', '\\nand', '\\nLet', '\\nBut', '\\nsickroom', '\\nand']"
      ]
     },
     "execution_count": 23,
     "metadata": {},
     "output_type": "execute_result"
    }
   ],
   "source": [
    "p5 = re.compile(r'[\\n][a-zA-Z]{0,}', re.I)\n",
    "p5.findall(text)"
   ]
  },
  {
   "cell_type": "markdown",
   "metadata": {},
   "source": [
    "6) Проверить корректность введенного email.\n",
    "\n",
    "Считать email корректным, у которого в имени почтового ящика не более 25 латинских букв или цифр, а доменная часть состоит из двух доменов, разделеных точкой. В домене верхнего уровня от 2 до 6 латинских символов, а в домене второго уровня - от 3 до 10 латинских символов."
   ]
  },
  {
   "cell_type": "code",
   "execution_count": 30,
   "metadata": {},
   "outputs": [
    {
     "name": "stdout",
     "output_type": "stream",
     "text": [
      "botuevaliliya@mail.ru\n",
      "e-mail введен корректно :)\n"
     ]
    }
   ],
   "source": [
    "p6 = re.compile(r'[a-zA-Z0-9_]{0,24}[@][a-zA-Z]{2,9}[.][a-zA-Z]{1,5}')\n",
    "s6 = input()\n",
    "if p6.search(s6):\n",
    "    print(\"e-mail введен корректно :)\")\n",
    "else:\n",
    "    print('e-mail введен неправильно :(')"
   ]
  },
  {
   "cell_type": "markdown",
   "metadata": {},
   "source": [
    "7) В следующей строке найти все email-адреса и вывести только доменные имена. Описание того, что считается корректным электронным адресом, взять из задания 6)."
   ]
  },
  {
   "cell_type": "code",
   "execution_count": 10,
   "metadata": {
    "collapsed": true
   },
   "outputs": [],
   "source": [
    "s = 'test@test.ru ru.wikipedia.org mail@mail.com ref 123456789_adfasfd@mail.ru'"
   ]
  },
  {
   "cell_type": "code",
   "execution_count": 33,
   "metadata": {},
   "outputs": [
    {
     "data": {
      "text/plain": [
       "['@test.ru', '@mail.com', '@mail.ru']"
      ]
     },
     "execution_count": 33,
     "metadata": {},
     "output_type": "execute_result"
    }
   ],
   "source": [
    "p7 = re.compile(r'[@][a-zA-Z]{2,9}[.][a-zA-Z]{1,5}')\n",
    "s = 'test@test.ru ru.wikipedia.org mail@mail.com ref 123456789_adfasfd@mail.ru'\n",
    "p7.findall(s)"
   ]
  },
  {
   "cell_type": "markdown",
   "metadata": {},
   "source": [
    "8) Проверить корректность введенного номера мобильного телефона. Корректными номерами считаются:"
   ]
  },
  {
   "cell_type": "raw",
   "metadata": {},
   "source": [
    "+7(999)999-99-99\n",
    "+7 (999) 999-99-99\n",
    "+7 999 999-99-99\n",
    "+7 999 999 99 99\n",
    "+79999999999"
   ]
  },
  {
   "cell_type": "code",
   "execution_count": 38,
   "metadata": {},
   "outputs": [
    {
     "name": "stdout",
     "output_type": "stream",
     "text": [
      "OK\n",
      "OK\n",
      "OK\n",
      "OK\n",
      "OK\n"
     ]
    }
   ],
   "source": [
    "p8 = re.compile(r'[+][7][ (]{0,1}[(]{0,1}[9]{3}[) ]{0,1}[)]{0,1}[ ]{0,1}[9]{3}[- ]{0,1}[9]{2}[ -]{0,1}[9]{2}')\n",
    "s81 = '+7(999)999-99-99'\n",
    "s82 = '+7 (999) 999-99-99'\n",
    "s83 = '+7 999 999-99-99'\n",
    "s84 = '+7 999 999 99 99'\n",
    "s85 = '+79999999999'\n",
    "if p8.search(s81):\n",
    "    print(\"OK\")\n",
    "else:\n",
    "    print(\"Bad\")\n",
    "if p8.search(s82):\n",
    "    print(\"OK\")\n",
    "else:\n",
    "    print(\"Bad\")\n",
    "if p8.search(s83):\n",
    "    print(\"OK\")\n",
    "else:\n",
    "    print(\"Bad\")\n",
    "if p8.search(s84):\n",
    "    print(\"OK\")\n",
    "else:\n",
    "    print(\"Bad\")\n",
    "if p8.search(s85):\n",
    "    print(\"OK\")\n",
    "else:\n",
    "    print(\"Bad\")"
   ]
  },
  {
   "cell_type": "code",
   "execution_count": null,
   "metadata": {},
   "outputs": [],
   "source": []
  }
 ],
 "metadata": {
  "kernelspec": {
   "display_name": "Python 3",
   "language": "python",
   "name": "python3"
  },
  "language_info": {
   "codemirror_mode": {
    "name": "ipython",
    "version": 3
   },
   "file_extension": ".py",
   "mimetype": "text/x-python",
   "name": "python",
   "nbconvert_exporter": "python",
   "pygments_lexer": "ipython3",
   "version": "3.6.5"
  }
 },
 "nbformat": 4,
 "nbformat_minor": 2
}
