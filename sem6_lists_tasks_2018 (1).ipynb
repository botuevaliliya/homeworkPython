{
 "cells": [
  {
   "cell_type": "markdown",
   "metadata": {},
   "source": [
    "# Задания по семинару 6\n",
    "\n",
    "# Списки"
   ]
  },
  {
   "cell_type": "markdown",
   "metadata": {},
   "source": [
    "1) Создать список, состоящий из нечетных чисел от 5 до 25."
   ]
  },
  {
   "cell_type": "code",
   "execution_count": null,
   "metadata": {},
   "outputs": [],
   "source": [
    "lst = [5, 7, 9, 11, 13, 15, 17, 19, 21, 23, 25]"
   ]
  },
  {
   "cell_type": "markdown",
   "metadata": {},
   "source": [
    "2) Создать список из чисел 31, 24, 17 тремя способами:\n",
    "- перечисление,\n",
    "- на основе другого списка (по сути, создать копию списка),\n",
    "- с помощью функции ``range``.\n",
    "\n",
    "Вывести списки на экран.\n",
    "\n",
    "Создать и вывести на экран список, состоящий из полученных списков (список списков)."
   ]
  },
  {
   "cell_type": "code",
   "execution_count": 1,
   "metadata": {},
   "outputs": [
    {
     "data": {
      "text/plain": [
       "[5, 7, 9, 11, 13, 15, 17, 19, 21, 23, 25, 27]"
      ]
     },
     "execution_count": 1,
     "metadata": {},
     "output_type": "execute_result"
    }
   ],
   "source": [
    "lst2 = list(range(5, 28, 2))\n",
    "lst21 = lst2\n",
    "lst21\n",
    "lst2"
   ]
  },
  {
   "cell_type": "markdown",
   "metadata": {},
   "source": [
    "3) Создать список из 10 членов геометрической прогрессии со знаменателем 3 начинающейся с 2."
   ]
  },
  {
   "cell_type": "code",
   "execution_count": 2,
   "metadata": {},
   "outputs": [
    {
     "data": {
      "text/plain": [
       "[2, 6, 18, 54, 162, 486, 1458, 4374, 13122, 39366]"
      ]
     },
     "execution_count": 2,
     "metadata": {},
     "output_type": "execute_result"
    }
   ],
   "source": [
    "lst3 = [2]\n",
    "a = 2\n",
    "for i in range(9):\n",
    "    a *= 3\n",
    "    lst3.append(a)\n",
    "lst3"
   ]
  },
  {
   "cell_type": "markdown",
   "metadata": {},
   "source": [
    "4) Создать и вывести на экран список из всех цифр, встречающихся в введенной пользователем строке. Например:"
   ]
  },
  {
   "cell_type": "raw",
   "metadata": {},
   "source": [
    "'fghio345jkw23ihi2' -> [3, 4, 5, 2, 3, 2]"
   ]
  },
  {
   "cell_type": "code",
   "execution_count": 2,
   "metadata": {},
   "outputs": [],
   "source": [
    "import re"
   ]
  },
  {
   "cell_type": "code",
   "execution_count": 5,
   "metadata": {},
   "outputs": [
    {
     "name": "stdout",
     "output_type": "stream",
     "text": [
      "fj5678ghjc3454cfgjh2hgj54\n"
     ]
    },
    {
     "data": {
      "text/plain": [
       "['5', '6', '7', '8', '3', '4', '5', '4', '2', '5', '4']"
      ]
     },
     "execution_count": 5,
     "metadata": {},
     "output_type": "execute_result"
    }
   ],
   "source": [
    "st41 = input()\n",
    "lst41 = []\n",
    "for i in st41:\n",
    "    if '9' >= i >= '0':\n",
    "        lst41.append(i)\n",
    "lst41"
   ]
  },
  {
   "cell_type": "markdown",
   "metadata": {},
   "source": [
    "5) Создать список из всех слов имеющихся во введенной пользователем строке. Например:"
   ]
  },
  {
   "cell_type": "raw",
   "metadata": {},
   "source": [
    "'Hello, my friend! How are you?' -> ['Hello', 'my', 'friend', 'How', 'are', 'you']"
   ]
  },
  {
   "cell_type": "code",
   "execution_count": 7,
   "metadata": {},
   "outputs": [
    {
     "name": "stdout",
     "output_type": "stream",
     "text": [
      "Hello, my friend! How are you?\n"
     ]
    },
    {
     "data": {
      "text/plain": [
       "['Hello', 'my', 'friend', 'How', 'are', 'you']"
      ]
     },
     "execution_count": 7,
     "metadata": {},
     "output_type": "execute_result"
    }
   ],
   "source": [
    "st5 = input()\n",
    "p5 = re.compile(r'[a-zA-Z]{1,}', re.I)\n",
    "p5.findall(st5)"
   ]
  },
  {
   "cell_type": "markdown",
   "metadata": {},
   "source": [
    "6) Дан список с произвольным количеством элементов. Если в заданный список входит слово ``\"repeat\"``, а последний элемент списка - это число, то продублировать все элементы списка, кроме двух последних. Количество копий соответствует числу, являющимся последним элементов списка. Последние два элемента списка просто добавляются в конец нового списка (без дублирования). Например:"
   ]
  },
  {
   "cell_type": "raw",
   "metadata": {},
   "source": [
    "['input', 'repeat', 'string', 2] -> ['input', 'repeat', 'input', 'repeat', 'string', 2]"
   ]
  },
  {
   "cell_type": "code",
   "execution_count": 8,
   "metadata": {},
   "outputs": [
    {
     "data": {
      "text/plain": [
       "['input', 'repeat', 'input', 'repeat', 'string', 2]"
      ]
     },
     "execution_count": 8,
     "metadata": {},
     "output_type": "execute_result"
    }
   ],
   "source": [
    "lst6 = ['input', 'repeat', 'string', 2]\n",
    "lst61 = []\n",
    "if 'repeat' in lst6:\n",
    "    for i in lst6:\n",
    "        if i != 'repeat':\n",
    "            lst61.append(i)\n",
    "        else:\n",
    "            lst61.append(i)\n",
    "            lst61 *= lst6[-1]\n",
    "lst61"
   ]
  },
  {
   "cell_type": "markdown",
   "metadata": {},
   "source": [
    "7) Запросить у пользователя две произвольные строки. Создать список, который состоит из введенных пользователем строк, их длин и результата проверки соблюдения лексикографического порядка (идет ли первая строка раньше второй).\n",
    "\n",
    "Запросить у пользователя, что он хочет узнать, и записать это в переменную ``output``. Возможны два варианта: ``'lengths'`` и ``'order'``. В зависимости от значения ``output`` путем обращения к элементам созданного ранее списка выводить либо длины строк (``output='lengths'``, в формате ``\"Длины строк: 4 и 5\"``), либо описание порядка (``output='order'``, в формате ``\"Строка 'первая' идет ПОСЛЕ строки 'вторая'\"``)."
   ]
  },
  {
   "cell_type": "code",
   "execution_count": 10,
   "metadata": {},
   "outputs": [
    {
     "name": "stdout",
     "output_type": "stream",
     "text": [
      "первая\n",
      "вторая\n",
      "Длины строк: 6 и 6\n",
      "Строка 'первая' идет ПОСЛЕ строки 'вторая'\n"
     ]
    }
   ],
   "source": [
    "st71 = input()\n",
    "st72 = input()\n",
    "lst71 = []\n",
    "lst71.append(len(st71))\n",
    "lst71.append(len(st72))\n",
    "lst72 = []\n",
    "if st71 < st72:\n",
    "    lst72.append(st71)\n",
    "    lst72.append(st72)\n",
    "else:\n",
    "    lst72.append(st72)\n",
    "    lst72.append(st71)\n",
    "print(\"Длины строк: {} и {}\".format(lst71[0], lst71[1]))\n",
    "print(\"Строка '{}' идет ПОСЛЕ строки '{}'\".format(lst72[1], lst72[0]))"
   ]
  },
  {
   "cell_type": "markdown",
   "metadata": {},
   "source": [
    "8) Запросить у пользователя 2 целых положительных числа и сохранить их в переменные ``max_val`` и ``repeat``.\n",
    "\n",
    "Создать список из целых чисел со значениями от ``1`` до ``max_val`` включительно, повторенными ``repeat`` раз.\n",
    "\n",
    "Например, для ``max_val=4``, ``repeat=3``  должен быть создан список: ``[1, 2, 3, 4, 1, 2, 3, 4, 1, 2, 3, 4]``."
   ]
  },
  {
   "cell_type": "code",
   "execution_count": 11,
   "metadata": {},
   "outputs": [
    {
     "name": "stdout",
     "output_type": "stream",
     "text": [
      "4\n",
      "3\n"
     ]
    },
    {
     "data": {
      "text/plain": [
       "[1, 2, 3, 4, 1, 2, 3, 4, 1, 2, 3, 4]"
      ]
     },
     "execution_count": 11,
     "metadata": {},
     "output_type": "execute_result"
    }
   ],
   "source": [
    "max_val = int(input())\n",
    "repeat = int(input())\n",
    "lst8 = []\n",
    "for i in range(1, max_val + 1):\n",
    "    lst8.append(i)\n",
    "lst8 *= repeat\n",
    "lst8"
   ]
  },
  {
   "cell_type": "markdown",
   "metadata": {},
   "source": [
    "9) Даны два списка произвольной длины, элементами которых являются целые числа. Во втором списке умножить элементы, отсутствующие в первом списке, на 10. (Новые списки создавать нельзя, необходимо изменить существующий.)"
   ]
  },
  {
   "cell_type": "code",
   "execution_count": 12,
   "metadata": {},
   "outputs": [
    {
     "data": {
      "text/plain": [
       "[40, 50, 6, 7, 80, 90]"
      ]
     },
     "execution_count": 12,
     "metadata": {},
     "output_type": "execute_result"
    }
   ],
   "source": [
    "lst91 = [1, 2, 3, 6, 7]\n",
    "lst92 = [4, 5, 6, 7, 8, 9]\n",
    "for j,i in enumerate(lst92):\n",
    "    if i in lst91:\n",
    "        continue\n",
    "    else:\n",
    "        i *= 10\n",
    "        lst92[j] = i\n",
    "lst92"
   ]
  },
  {
   "cell_type": "markdown",
   "metadata": {},
   "source": [
    "10) Из произвольной строки создать список. Вместо каждой буквы ``\"s\"`` (без учета регистра), стоящей не на первом и не на последнем месте, вставить в список строку из удвоенного предыдущего символа и одного следующего.\n",
    "\n",
    "Например:"
   ]
  },
  {
   "cell_type": "raw",
   "metadata": {},
   "source": [
    "\"test_Stringss\" -> ['t', 'e', 'eet', 't', '_', '__t', 't', 'r', 'i', 'n', 'g', 'ggs', 's']"
   ]
  },
  {
   "cell_type": "code",
   "execution_count": 23,
   "metadata": {},
   "outputs": [
    {
     "name": "stdout",
     "output_type": "stream",
     "text": [
      "test_Stringss\n"
     ]
    },
    {
     "data": {
      "text/plain": [
       "['t', 'e', 'eet', 't', '_', '__t', 't', 'r', 'i', 'n', 'g', 'ggs', 's']"
      ]
     },
     "execution_count": 23,
     "metadata": {},
     "output_type": "execute_result"
    }
   ],
   "source": [
    "st10 = input()\n",
    "st101 = ''\n",
    "lst10 = []\n",
    "j = 0\n",
    "for i in st10:\n",
    "    if (i == 's' or i == 'S') and (j != 0 and j != (len(st10)-1)):\n",
    "        st101 += st10[j-1]*2 + st10[j+1]\n",
    "        lst10.append(st101)\n",
    "        st101 = ''\n",
    "    else:\n",
    "        lst10.append(i)\n",
    "    j += 1\n",
    "lst10        "
   ]
  },
  {
   "cell_type": "markdown",
   "metadata": {},
   "source": [
    "11) Запросить у пользователя целое положительное число. Данное число - это длина списка.\n",
    "\n",
    "Организовать заполнение списка заданной длины пользовательскими значениями, полученными с помощью функции ``input``."
   ]
  },
  {
   "cell_type": "code",
   "execution_count": 29,
   "metadata": {},
   "outputs": [
    {
     "name": "stdout",
     "output_type": "stream",
     "text": [
      "Введите положительное число: 5\n",
      "gtdx\n",
      "5\n",
      "dhk\n",
      "8\n",
      "o\n"
     ]
    },
    {
     "data": {
      "text/plain": [
       "['gtdx', '5', 'dhk', '8', 'o']"
      ]
     },
     "execution_count": 29,
     "metadata": {},
     "output_type": "execute_result"
    }
   ],
   "source": [
    "aaaa11 = int(input(\"Введите положительное число: \"))\n",
    "lst01 = []\n",
    "for i in range(1, aaaa11 + 1):\n",
    "    aaaa12 = input()\n",
    "    lst01.append(aaaa12)\n",
    "lst01"
   ]
  },
  {
   "cell_type": "markdown",
   "metadata": {
    "collapsed": true
   },
   "source": [
    "12) Написать програмный код, который генерирует вложнный список образующий единичную матрицу 4 на 4. Результат работы алгоритма:"
   ]
  },
  {
   "cell_type": "raw",
   "metadata": {},
   "source": [
    "[[1, 0, 0, 0],\n",
    " [0, 1, 0, 0],\n",
    " [0, 0, 1, 0],\n",
    " [0, 0, 0, 1]]"
   ]
  },
  {
   "cell_type": "code",
   "execution_count": 38,
   "metadata": {},
   "outputs": [
    {
     "data": {
      "text/plain": [
       "[[1, 0, 0, 0], [0, 1, 0, 0], [0, 0, 1, 0], [0, 0, 0, 1]]"
      ]
     },
     "execution_count": 38,
     "metadata": {},
     "output_type": "execute_result"
    }
   ],
   "source": [
    "lst02 = [[1,1,1,1],[1,1,1,1],[1,1,1,1],[1,1,1,1]]\n",
    "for i in range(0,4):\n",
    "    for j in range(0,4):\n",
    "        if i == j:\n",
    "            lst02[i][j] = 1\n",
    "        else:\n",
    "            lst02[i][j] = 0\n",
    "lst02"
   ]
  },
  {
   "cell_type": "markdown",
   "metadata": {},
   "source": [
    "13) В списке целых чисел найти произведение всех чисел, больших чем 10 и меньших чем 20, за исключением 13. Проверить на списке ``[2, 11, 21, 16, 7, 13, 18, 12]`` (ответ: 38016)."
   ]
  },
  {
   "cell_type": "code",
   "execution_count": 40,
   "metadata": {},
   "outputs": [
    {
     "data": {
      "text/plain": [
       "38016"
      ]
     },
     "execution_count": 40,
     "metadata": {},
     "output_type": "execute_result"
    }
   ],
   "source": [
    "lst03 = [2, 11, 21, 16, 7, 13, 18, 12]\n",
    "xx = 1\n",
    "for i in lst03:\n",
    "    if 20 > i > 10 and i != 13:\n",
    "        xx *= i\n",
    "xx"
   ]
  },
  {
   "cell_type": "markdown",
   "metadata": {},
   "source": [
    "14) Дан целочисленный список. На его основе создать новый список, в котором все отрицательные числа исходного списка заменены на их индекс, а остальные элементы сохранены на своих местах."
   ]
  },
  {
   "cell_type": "code",
   "execution_count": 41,
   "metadata": {},
   "outputs": [
    {
     "data": {
      "text/plain": [
       "[3, 1, 8, 54234, 4, 875, 56, 34, 8, 9]"
      ]
     },
     "execution_count": 41,
     "metadata": {},
     "output_type": "execute_result"
    }
   ],
   "source": [
    "lst04 = [3, -6, 8, 54234, -563, 875, 56, 34, -435, -345]\n",
    "j = 0\n",
    "for i in lst04:\n",
    "    if i < 0:\n",
    "        lst04[j] = j\n",
    "    j += 1\n",
    "lst04"
   ]
  },
  {
   "cell_type": "markdown",
   "metadata": {},
   "source": [
    "15) Убрать все дубликаты в списке."
   ]
  },
  {
   "cell_type": "code",
   "execution_count": 46,
   "metadata": {},
   "outputs": [
    {
     "data": {
      "text/plain": [
       "[2, 15, 7, 3, 5, 9]"
      ]
     },
     "execution_count": 46,
     "metadata": {},
     "output_type": "execute_result"
    }
   ],
   "source": [
    "lst05 = [2, 15, 7, 2, 3, 5, 7, 7, 3, 15, 9]\n",
    "lst051 = []\n",
    "for i in lst05:\n",
    "    if i in lst051:\n",
    "        continue\n",
    "    else:\n",
    "        lst051.append(i)\n",
    "lst051"
   ]
  },
  {
   "cell_type": "code",
   "execution_count": 47,
   "metadata": {},
   "outputs": [
    {
     "data": {
      "text/plain": [
       "[2, 15, 7, 3, 7, 3, 15, 9]"
      ]
     },
     "execution_count": 47,
     "metadata": {},
     "output_type": "execute_result"
    }
   ],
   "source": [
    "j = 0\n",
    "for i in lst05:\n",
    "    if i in lst05[:j]:\n",
    "        del lst05[j]\n",
    "    else:\n",
    "        j += 1\n",
    "lst05"
   ]
  },
  {
   "cell_type": "markdown",
   "metadata": {},
   "source": [
    "16) Дан список чисел. Найти элемент, следующий за минимальным в порядке возрастания («второй минимум»). Например, для списка ``lst = [1, 2, 3, 1, 2, 5, 6, 6, 7, 8]`` второй минимум - это 2."
   ]
  },
  {
   "cell_type": "code",
   "execution_count": 58,
   "metadata": {},
   "outputs": [
    {
     "data": {
      "text/plain": [
       "2"
      ]
     },
     "execution_count": 58,
     "metadata": {},
     "output_type": "execute_result"
    }
   ],
   "source": [
    "lst06 = [1, 2, 3, 1, 2, 5, 6, 6, 7, 8]\n",
    "aa16 = min(lst06)\n",
    "aa162 = max(lst06)\n",
    "j = 0\n",
    "for i in lst06:\n",
    "    if i == aa16:\n",
    "        lst06[j] = aa162\n",
    "    j += 1\n",
    "aa161 = min(lst06)\n",
    "aa161"
   ]
  },
  {
   "cell_type": "markdown",
   "metadata": {},
   "source": [
    "17) Заданы две заранее неизвестные строки, в которых слова разделены пробелами. Из этих двух строк составить одну новую, в которой слова из первой и второй строки будут чередоваться, при этом порядок слов будет сохранен. Если количество слов в строках различное, то закончить создание результирующей строки, как только слова в одной из исходных строк закончатся. Для преобразований использовать списки слов.\n",
    "\n",
    "Например:"
   ]
  },
  {
   "cell_type": "raw",
   "metadata": {},
   "source": [
    "s1 = 'один два три'\n",
    "s2 = 'альфа бетта гамма'\n",
    "\n",
    "result = 'один альфа два бетта три гамма'"
   ]
  },
  {
   "cell_type": "code",
   "execution_count": 63,
   "metadata": {},
   "outputs": [
    {
     "name": "stdout",
     "output_type": "stream",
     "text": [
      "sgt srth rth\n",
      "seg awe yrj\n"
     ]
    },
    {
     "data": {
      "text/plain": [
       "'sgt seg srth awe rth yrj'"
      ]
     },
     "execution_count": 63,
     "metadata": {},
     "output_type": "execute_result"
    }
   ],
   "source": [
    "st071 = input()\n",
    "st072 = input()\n",
    "p2 = re.compile(r'[a-zA-Z]{1,}')\n",
    "lst071 = p2.findall(st071)\n",
    "lst072 = p2.findall(st072)\n",
    "a071 = min(len(lst071),len(lst072))\n",
    "lst07 = []\n",
    "for i in range(0, a071):\n",
    "    lst07.append(lst071[i])\n",
    "    lst07.append(lst072[i])\n",
    "' '.join(lst07)"
   ]
  },
  {
   "cell_type": "markdown",
   "metadata": {},
   "source": [
    "17.1) Решить задачу, используя функцию ``zip``."
   ]
  },
  {
   "cell_type": "code",
   "execution_count": 65,
   "metadata": {},
   "outputs": [
    {
     "name": "stdout",
     "output_type": "stream",
     "text": [
      "rg rth etjk\n",
      "wre iyk dg\n"
     ]
    },
    {
     "data": {
      "text/plain": [
       "[('rg', 'wre'), ('rth', 'iyk'), ('etjk', 'dg')]"
      ]
     },
     "execution_count": 65,
     "metadata": {},
     "output_type": "execute_result"
    }
   ],
   "source": [
    "st071 = input()\n",
    "st072 = input()\n",
    "p2 = re.compile(r'[a-zA-Z]{1,}')\n",
    "lst071 = p2.findall(st071)\n",
    "lst072 = p2.findall(st072)\n",
    "lst0711 = list(zip(lst071,lst072))\n",
    "lst0711"
   ]
  },
  {
   "cell_type": "markdown",
   "metadata": {},
   "source": [
    "18) Выполнить циклический сдвиг слов в произвольной строке (слова разделены пробелами) на заданное пользователем число слов.  Решить с помощью списков слов.\n",
    "\n",
    "Например:"
   ]
  },
  {
   "cell_type": "raw",
   "metadata": {},
   "source": [
    "\"один два три четыре пять шесть семь\", 3 -> \"четыре пять шесть семь один два три\""
   ]
  },
  {
   "cell_type": "code",
   "execution_count": 5,
   "metadata": {},
   "outputs": [
    {
     "name": "stdout",
     "output_type": "stream",
     "text": [
      "3\n",
      "четыре пять шесть семь один два три\n"
     ]
    }
   ],
   "source": [
    "st08 = 'один два три четыре пять шесть семь'\n",
    "p2 = re.compile(r'[а-яА-ЯёЁ]{1,}')\n",
    "lst08 = p2.findall(st08)\n",
    "aa08 = int(input())\n",
    "lst081 = lst08[aa08:] + lst08[:aa08]\n",
    "print(' '.join(lst081))"
   ]
  },
  {
   "cell_type": "markdown",
   "metadata": {},
   "source": [
    "19) В списке целых чисел из диапозона от 1 до 20 заменить все числа, не являющиеся простыми, на составляющие их простые множители (которые включаются в виде вложенного списка на место исключаемого числа). Кратные простые множетели добавлять количество раз, составляющее их кратность в исходном числе.\n",
    "\n",
    "Например:"
   ]
  },
  {
   "cell_type": "raw",
   "metadata": {},
   "source": [
    "[3, 6, 7, 12] -> [3, [2, 3], 7, [2, 2, 3]]"
   ]
  },
  {
   "cell_type": "code",
   "execution_count": 16,
   "metadata": {},
   "outputs": [
    {
     "data": {
      "text/plain": [
       "[['3'], ['2', '3'], ['7'], ['2', '2', '3']]"
      ]
     },
     "execution_count": 16,
     "metadata": {},
     "output_type": "execute_result"
    }
   ],
   "source": [
    "def factors(num, d=2):\n",
    "    while num > 1:\n",
    "        n1, n2 = divmod(num, d)\n",
    "        if n2:\n",
    "            d += 1\n",
    "        else:\n",
    "            yield d\n",
    "            num = n1\n",
    "lst09 = [3, 6, 7, 12]\n",
    "j = 0\n",
    "for i in lst09:\n",
    "    lst09[j] = list('{}' .format( ''.join(map(str, factors(i)))))\n",
    "    j += 1\n",
    "lst09"
   ]
  },
  {
   "cell_type": "code",
   "execution_count": null,
   "metadata": {},
   "outputs": [],
   "source": []
  }
 ],
 "metadata": {
  "kernelspec": {
   "display_name": "Python 3",
   "language": "python",
   "name": "python3"
  },
  "language_info": {
   "codemirror_mode": {
    "name": "ipython",
    "version": 3
   },
   "file_extension": ".py",
   "mimetype": "text/x-python",
   "name": "python",
   "nbconvert_exporter": "python",
   "pygments_lexer": "ipython3",
   "version": "3.6.5"
  }
 },
 "nbformat": 4,
 "nbformat_minor": 2
}
